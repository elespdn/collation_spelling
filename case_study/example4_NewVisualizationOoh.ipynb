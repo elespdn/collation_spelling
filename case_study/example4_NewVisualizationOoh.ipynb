{
 "cells": [
  {
   "cell_type": "markdown",
   "metadata": {
    "collapsed": true
   },
   "source": [
    "### Add a property to the token for normalized forms to be used not in the alignment, but for interpretation in the analysis stage and then in the visualization."
   ]
  },
  {
   "cell_type": "markdown",
   "metadata": {},
   "source": [
    "## 0. No normalization"
   ]
  },
  {
   "cell_type": "code",
   "execution_count": 5,
   "metadata": {
    "scrolled": false
   },
   "outputs": [
    {
     "data": {
      "text/html": [
       "<TABLE border=\"1\" style=\"border: 1px solid #000000; border-collapse: collapse;\" cellpadding=\"4\">\n",
       " <TR>\n",
       "  <TH>W1</TH>\n",
       "  <TH>W2</TH>\n",
       "  <TH>W3</TH>\n",
       "  <TH>W4</TH>\n",
       " </TR>\n",
       " <TR>\n",
       "  <TD bgcolor=\"FF5000\">Lors</TD>\n",
       "  <TD bgcolor=\"FF5000\">Lors</TD>\n",
       "  <TD bgcolor=\"FF5000\">Lors</TD>\n",
       "  <TD bgcolor=\"FF5000\">Adonc</TD>\n",
       " </TR>\n",
       " <TR>\n",
       "  <TD bgcolor=\"FF5000\">-</TD>\n",
       "  <TD bgcolor=\"FF5000\">-</TD>\n",
       "  <TD bgcolor=\"FF5000\">-</TD>\n",
       "  <TD bgcolor=\"FF5000\">li</TD>\n",
       " </TR>\n",
       " <TR>\n",
       "  <TD bgcolor=\"00FFFF\">conte</TD>\n",
       "  <TD bgcolor=\"00FFFF\">conte</TD>\n",
       "  <TD bgcolor=\"00FFFF\">conte</TD>\n",
       "  <TD bgcolor=\"00FFFF\">conte</TD>\n",
       " </TR>\n",
       " <TR>\n",
       "  <TD bgcolor=\"00FFFF\">li</TD>\n",
       "  <TD bgcolor=\"00FFFF\">li</TD>\n",
       "  <TD bgcolor=\"00FFFF\">li</TD>\n",
       "  <TD bgcolor=\"00FFFF\">li</TD>\n",
       " </TR>\n",
       " <TR>\n",
       "  <TD bgcolor=\"00FFFF\">rois</TD>\n",
       "  <TD bgcolor=\"00FFFF\">rois</TD>\n",
       "  <TD bgcolor=\"00FFFF\">rois</TD>\n",
       "  <TD bgcolor=\"00FFFF\">rois</TD>\n",
       " </TR>\n",
       " <TR>\n",
       "  <TD bgcolor=\"FF5000\">a</TD>\n",
       "  <TD bgcolor=\"FF5000\">a</TD>\n",
       "  <TD bgcolor=\"FF5000\">a</TD>\n",
       "  <TD bgcolor=\"FF5000\">comment</TD>\n",
       " </TR>\n",
       " <TR>\n",
       "  <TD bgcolor=\"FF5000\">la</TD>\n",
       "  <TD bgcolor=\"FF5000\">la</TD>\n",
       "  <TD bgcolor=\"FF5000\">la</TD>\n",
       "  <TD bgcolor=\"FF5000\">-</TD>\n",
       " </TR>\n",
       " <TR>\n",
       "  <TD bgcolor=\"FF5000\">reine</TD>\n",
       "  <TD bgcolor=\"FF5000\">reine</TD>\n",
       "  <TD bgcolor=\"FF5000\">roine</TD>\n",
       "  <TD bgcolor=\"FF5000\">-</TD>\n",
       " </TR>\n",
       " <TR>\n",
       "  <TD bgcolor=\"FF5000\">coment</TD>\n",
       "  <TD bgcolor=\"FF5000\">coment</TD>\n",
       "  <TD bgcolor=\"FF5000\">coment</TD>\n",
       "  <TD bgcolor=\"FF5000\">-</TD>\n",
       " </TR>\n",
       " <TR>\n",
       "  <TD bgcolor=\"00FFFF\">la</TD>\n",
       "  <TD bgcolor=\"00FFFF\">la</TD>\n",
       "  <TD bgcolor=\"00FFFF\">la</TD>\n",
       "  <TD bgcolor=\"00FFFF\">la</TD>\n",
       " </TR>\n",
       " <TR>\n",
       "  <TD bgcolor=\"00FFFF\">dame</TD>\n",
       "  <TD bgcolor=\"00FFFF\">dame</TD>\n",
       "  <TD bgcolor=\"00FFFF\">dame</TD>\n",
       "  <TD bgcolor=\"00FFFF\">dame</TD>\n",
       " </TR>\n",
       " <TR>\n",
       "  <TD bgcolor=\"FF5000\">del</TD>\n",
       "  <TD bgcolor=\"FF5000\">del</TD>\n",
       "  <TD bgcolor=\"FF5000\">del</TD>\n",
       "  <TD bgcolor=\"FF5000\">du</TD>\n",
       " </TR>\n",
       " <TR>\n",
       "  <TD bgcolor=\"00FFFF\">lac</TD>\n",
       "  <TD bgcolor=\"00FFFF\">lac</TD>\n",
       "  <TD bgcolor=\"00FFFF\">lac</TD>\n",
       "  <TD bgcolor=\"00FFFF\">lac</TD>\n",
       " </TR>\n",
       "</TABLE>"
      ],
      "text/plain": [
       "<IPython.core.display.HTML object>"
      ]
     },
     "metadata": {},
     "output_type": "display_data"
    },
    {
     "name": "stdout",
     "output_type": "stream",
     "text": [
      "None\n"
     ]
    }
   ],
   "source": [
    "from collatex import *\n",
    "collation = Collation()\n",
    "W1 = open( \"data/example4/W1.txt\", encoding='utf-8' ).read()\n",
    "W2 = open( \"data/example4/W2.txt\", encoding='utf-8' ).read()\n",
    "W3 = open( \"data/example4/W3.txt\", encoding='utf-8' ).read()\n",
    "W4 = open( \"data/example4/W4.txt\", encoding='utf-8' ).read()\n",
    "collation.add_plain_witness( \"W1\", W1 )\n",
    "collation.add_plain_witness( \"W2\", W2 )\n",
    "collation.add_plain_witness( \"W3\", W3 )\n",
    "collation.add_plain_witness( \"W4\", W4 )\n",
    "table = collate(collation, output='html2', segmentation=False)\n",
    "print(table)"
   ]
  },
  {
   "cell_type": "markdown",
   "metadata": {},
   "source": [
    "\n",
    "## 1. Dictionary\n",
    "\n",
    "This method requires the manual creation of a dictionary. In this example, the dictionary is built with **three columns**: the first for the **original form**, the second for the **normalized form** to be used during the **alignment**, the third for the **normalized form** to be used in the **interpretation**, after the alignment and before the visualisation.\n",
    "The first column must have a value, while the second and third columns may stay empty."
   ]
  },
  {
   "cell_type": "code",
   "execution_count": 19,
   "metadata": {},
   "outputs": [
    {
     "name": "stdout",
     "output_type": "stream",
     "text": [
      "{\"table\": [[[{\"_sigil\": \"W1\", \"_token_array_position\": 0, \"n\": \"Lors\", \"p\": \"Lors\", \"t\": \"Lors \"}], null, [{\"_sigil\": \"W1\", \"_token_array_position\": 1, \"n\": \"conte\", \"p\": \"conte\", \"t\": \"conte \"}], [{\"_sigil\": \"W1\", \"_token_array_position\": 2, \"n\": \"li\", \"p\": \"li\", \"t\": \"li \"}], [{\"_sigil\": \"W1\", \"_token_array_position\": 3, \"n\": \"rois\", \"p\": \"rois\", \"t\": \"rois \"}], [{\"_sigil\": \"W1\", \"_token_array_position\": 4, \"n\": \"a\", \"p\": \"a\", \"t\": \"a \"}], [{\"_sigil\": \"W1\", \"_token_array_position\": 5, \"n\": \"la\", \"p\": \"la\", \"t\": \"la \"}], [{\"_sigil\": \"W1\", \"_token_array_position\": 6, \"n\": \"reine\", \"p\": \"reine\", \"t\": \"reine \"}], [{\"_sigil\": \"W1\", \"_token_array_position\": 7, \"n\": \"coment\", \"p\": \"coment\", \"t\": \"coment \"}], [{\"_sigil\": \"W1\", \"_token_array_position\": 8, \"n\": \"la\", \"p\": \"la\", \"t\": \"la \"}], [{\"_sigil\": \"W1\", \"_token_array_position\": 9, \"n\": \"dame\", \"p\": \"dame\", \"t\": \"dame \"}], [{\"_sigil\": \"W1\", \"_token_array_position\": 10, \"n\": \"del\", \"p\": \"del\", \"t\": \"del \"}], [{\"_sigil\": \"W1\", \"_token_array_position\": 11, \"n\": \"lac\", \"p\": \"lac\", \"t\": \"lac\\n\"}]], [[{\"_sigil\": \"W2\", \"_token_array_position\": 13, \"n\": \"Lors\", \"p\": \"Lors\", \"t\": \"Lors \"}], null, [{\"_sigil\": \"W2\", \"_token_array_position\": 14, \"n\": \"conte\", \"p\": \"conte\", \"t\": \"conte \"}], [{\"_sigil\": \"W2\", \"_token_array_position\": 15, \"n\": \"li\", \"p\": \"li\", \"t\": \"li \"}], [{\"_sigil\": \"W2\", \"_token_array_position\": 16, \"n\": \"rois\", \"p\": \"rois\", \"t\": \"rois \"}], [{\"_sigil\": \"W2\", \"_token_array_position\": 17, \"n\": \"a\", \"p\": \"a\", \"t\": \"a \"}], [{\"_sigil\": \"W2\", \"_token_array_position\": 18, \"n\": \"la\", \"p\": \"la\", \"t\": \"la \"}], [{\"_sigil\": \"W2\", \"_token_array_position\": 19, \"n\": \"reine\", \"p\": \"reine\", \"t\": \"reine \"}], [{\"_sigil\": \"W2\", \"_token_array_position\": 20, \"n\": \"coment\", \"p\": \"coment\", \"t\": \"coment \"}], [{\"_sigil\": \"W2\", \"_token_array_position\": 21, \"n\": \"la\", \"p\": \"la\", \"t\": \"la \"}], [{\"_sigil\": \"W2\", \"_token_array_position\": 22, \"n\": \"dame\", \"p\": \"dame\", \"t\": \"dame \"}], [{\"_sigil\": \"W2\", \"_token_array_position\": 23, \"n\": \"del\", \"p\": \"del\", \"t\": \"del \"}], [{\"_sigil\": \"W2\", \"_token_array_position\": 24, \"n\": \"lac\", \"p\": \"lac\", \"t\": \"lac\\n\"}]], [[{\"_sigil\": \"W3\", \"_token_array_position\": 26, \"n\": \"Lors\", \"p\": \"Lors\", \"t\": \"Lors \"}], null, [{\"_sigil\": \"W3\", \"_token_array_position\": 27, \"n\": \"conte\", \"p\": \"conte\", \"t\": \"conte \"}], [{\"_sigil\": \"W3\", \"_token_array_position\": 28, \"n\": \"li\", \"p\": \"li\", \"t\": \"li \"}], [{\"_sigil\": \"W3\", \"_token_array_position\": 29, \"n\": \"rois\", \"p\": \"rois\", \"t\": \"rois \"}], [{\"_sigil\": \"W3\", \"_token_array_position\": 30, \"n\": \"a\", \"p\": \"a\", \"t\": \"a \"}], [{\"_sigil\": \"W3\", \"_token_array_position\": 31, \"n\": \"la\", \"p\": \"la\", \"t\": \"la \"}], [{\"_sigil\": \"W3\", \"_token_array_position\": 32, \"n\": \"reine\", \"p\": \"reine\", \"t\": \"roine \"}], [{\"_sigil\": \"W3\", \"_token_array_position\": 33, \"n\": \"coment\", \"p\": \"coment\", \"t\": \"coment \"}], [{\"_sigil\": \"W3\", \"_token_array_position\": 34, \"n\": \"la\", \"p\": \"la\", \"t\": \"la \"}], [{\"_sigil\": \"W3\", \"_token_array_position\": 35, \"n\": \"dame\", \"p\": \"dame\", \"t\": \"dame \"}], [{\"_sigil\": \"W3\", \"_token_array_position\": 36, \"n\": \"del\", \"p\": \"del\", \"t\": \"del \"}], [{\"_sigil\": \"W3\", \"_token_array_position\": 37, \"n\": \"lac\", \"p\": \"lac\", \"t\": \"lac\\n\"}]], [[{\"_sigil\": \"W4\", \"_token_array_position\": 39, \"n\": \"Adonc\", \"p\": \"Adonc\", \"t\": \"Adonc \"}], [{\"_sigil\": \"W4\", \"_token_array_position\": 40, \"n\": \"li\", \"p\": \"li\", \"t\": \"li \"}], [{\"_sigil\": \"W4\", \"_token_array_position\": 41, \"n\": \"conte\", \"p\": \"conte\", \"t\": \"conte \"}], [{\"_sigil\": \"W4\", \"_token_array_position\": 42, \"n\": \"li\", \"p\": \"li\", \"t\": \"li \"}], [{\"_sigil\": \"W4\", \"_token_array_position\": 43, \"n\": \"rois\", \"p\": \"rois\", \"t\": \"rois \"}], null, null, null, [{\"_sigil\": \"W4\", \"_token_array_position\": 44, \"n\": \"coment\", \"p\": \"coment\", \"t\": \"comment \"}], [{\"_sigil\": \"W4\", \"_token_array_position\": 45, \"n\": \"la\", \"p\": \"la\", \"t\": \"la \"}], [{\"_sigil\": \"W4\", \"_token_array_position\": 46, \"n\": \"dame\", \"p\": \"dame\", \"t\": \"dame \"}], [{\"_sigil\": \"W4\", \"_token_array_position\": 47, \"n\": \"\", \"p\": \"del\", \"t\": \"du \"}], [{\"_sigil\": \"W4\", \"_token_array_position\": 48, \"n\": \"lac\", \"p\": \"lac\", \"t\": \"lac\\n\"}]]], \"witnesses\": [\"W1\", \"W2\", \"W3\", \"W4\"]}\n"
     ]
    }
   ],
   "source": [
    "import csv\n",
    "import re\n",
    "from collatex import *\n",
    "collation = Collation()\n",
    "\n",
    "# Create the dictionary (here 'dictionary_norm.csv') with three columns: the first for the original form (t), the second for the normalized form to be used during the alignment (n), the third for the normalized form to be used in the interpretation (p), after the alignment and before the visualisation. The first column must have a value, while the second and third columns may stay empty.\n",
    "Normit = {}\n",
    "with open('dictionary_norm.csv') as csvfile:\n",
    "    reader = csv.DictReader(csvfile, fieldnames=['Original', 'NormalisedAlignment', 'NormalisedInterpretation'],  dialect='excel')\n",
    "    for row in reader:\n",
    "        Normit[row['Original']]= row['NormalisedAlignment']\n",
    "        \n",
    "NormitInterpretation = {}\n",
    "with open('dictionary_norm.csv') as csvfile:\n",
    "    reader = csv.DictReader(csvfile, fieldnames=['Original', 'NormalisedAlignment', 'NormalisedInterpretation'],  dialect='excel')\n",
    "    for row in reader:\n",
    "        NormitInterpretation[row['Original']]= row['NormalisedInterpretation']\n",
    "\n",
    "from collatex.core_classes import WordPunctuationTokenizer\n",
    "tokenizer = WordPunctuationTokenizer()\n",
    "\n",
    "#read in the witnesses  from your file system \n",
    "W1 = open( \"data/example4/W1.txt\", encoding='utf-8' ).read()\n",
    "W2 = open( \"data/example4/W2.txt\", encoding='utf-8' ).read()\n",
    "W3 = open( \"data/example4/W3.txt\", encoding='utf-8' ).read()\n",
    "W4 = open( \"data/example4/W4.txt\", encoding='utf-8' ).read()\n",
    "\n",
    "# build a function to tokenize and to normalize by replace keys to be found in the dictionary by the corresponding values \n",
    "def tokennormalizer(witness) :\n",
    "    tokens_as_strings = tokenizer.tokenize(witness)\n",
    "    list = []\n",
    "    for token_string in tokens_as_strings:\n",
    "        normversion = re.sub(r'\\s+$',\"\", token_string)\n",
    "        replaceversion = Normit.get(normversion,normversion)\n",
    "        token_norm = NormitInterpretation.get(normversion,normversion)\n",
    "        list.append({'t':token_string, 'n':replaceversion, 'p':token_norm})\n",
    "    return(list)\n",
    "\n",
    "tokens_W1 = tokennormalizer(W1) \n",
    "tokens_W2 = tokennormalizer(W2) \n",
    "tokens_W3 = tokennormalizer(W3) \n",
    "tokens_W4 = tokennormalizer(W4) \n",
    "#Print to check what's in the properties; can be deleted once we can visualize it. Can check also in the collation with json output.\n",
    "##print(tokens_W1, tokens_W2, tokens_W3, tokens_W4)\n",
    " \n",
    "witness_W1 = { \"id\": \"W1\", \"tokens\":tokens_W1 }\n",
    "witness_W2 = { \"id\": \"W2\", \"tokens\":tokens_W2 }\n",
    "witness_W3 = { \"id\": \"W3\", \"tokens\":tokens_W3 }\n",
    "witness_W4 = { \"id\": \"W4\", \"tokens\":tokens_W4 }\n",
    "\n",
    "\n",
    "input = { \"witnesses\": [ witness_W1, witness_W2, witness_W3, witness_W4 ] }\n",
    "\n",
    "\n",
    "\n",
    "graph = collate(input, output='json', segmentation=False) \n",
    "print(graph)\n",
    "\n",
    "## !!! Probabilmente NON SERVONO n (normalized alignment) e p (normalized interpretation), ma solo l'originale (t) e quello normalizzato (n) bastano.\n",
    "## Ora da questo json dobbiamo tirare fuori una html table come la vogliamo noi, ovvero\n",
    "# rosso, quando n sono diversi\n",
    "# verde, quando n e t sono uguali\n",
    "# giallo, quando n sono uguali, ma t diversi\n",
    "\n",
    "\n",
    "\n",
    "\n",
    "\n",
    "\n",
    "\n",
    "# ================= ALL THIS NOT USED ======================================\n",
    "# from the code in display module\n",
    "from collatex.HTML import Table, TableRow, TableCell\n",
    "from textwrap import fill\n",
    "\n",
    "\n",
    "from IPython.display import HTML\n",
    "\n",
    "def visualize_table_vertically_with_colors_CUSTOM(table, collation):\n",
    "    # print the table vertically\n",
    "    # switch columns and rows\n",
    "    rows = []\n",
    "    for column in table.columns:\n",
    "        cells = []\n",
    "        for witness in collation.witnesses:\n",
    "            cell = column.tokens_per_witness.get(witness.sigil)\n",
    "            cells.append(TableCell(text=fill(\"\".join(item.token_data[\"t\"] for item in cell) if cell else \"-\", 20), bgcolor=\"FF5000\" if column.variant else \"00FFFF\"))\n",
    "        rows.append(TableRow(cells=cells))\n",
    "    sigli = []\n",
    "    \n",
    "    for witness in collation.witnesses:\n",
    "        sigli.append(witness.sigil)\n",
    "    \n",
    "    x = Table(header_row=sigli, rows=rows)\n",
    "    print(x)\n",
    "    return display(HTML(str(x)))\n",
    "\n",
    "# table = collate(input, output='table', segmentation=False) ## graph\n",
    "# visualize_table_vertically_with_colors_CUSTOM(table, collation)\n",
    "# ==========================================================================\n",
    "\n",
    "\n"
   ]
  },
  {
   "cell_type": "code",
   "execution_count": 20,
   "metadata": {},
   "outputs": [],
   "source": [
    "from json2html import *"
   ]
  },
  {
   "cell_type": "code",
   "execution_count": 21,
   "metadata": {},
   "outputs": [
    {
     "data": {
      "text/plain": [
       "'<table border=\"1\"><tr><th>table</th><td><ul><li><ul><li><table border=\"1\"><tr><th>_sigil</th><th>_token_array_position</th><th>n</th><th>p</th><th>t</th></tr><tr><td>W1</td><td>0</td><td>Lors</td><td>Lors</td><td>Lors </td></tr></table></li><li>None</li><li><table border=\"1\"><tr><th>_sigil</th><th>_token_array_position</th><th>n</th><th>p</th><th>t</th></tr><tr><td>W1</td><td>1</td><td>conte</td><td>conte</td><td>conte </td></tr></table></li><li><table border=\"1\"><tr><th>_sigil</th><th>_token_array_position</th><th>n</th><th>p</th><th>t</th></tr><tr><td>W1</td><td>2</td><td>li</td><td>li</td><td>li </td></tr></table></li><li><table border=\"1\"><tr><th>_sigil</th><th>_token_array_position</th><th>n</th><th>p</th><th>t</th></tr><tr><td>W1</td><td>3</td><td>rois</td><td>rois</td><td>rois </td></tr></table></li><li><table border=\"1\"><tr><th>_sigil</th><th>_token_array_position</th><th>n</th><th>p</th><th>t</th></tr><tr><td>W1</td><td>4</td><td>a</td><td>a</td><td>a </td></tr></table></li><li><table border=\"1\"><tr><th>_sigil</th><th>_token_array_position</th><th>n</th><th>p</th><th>t</th></tr><tr><td>W1</td><td>5</td><td>la</td><td>la</td><td>la </td></tr></table></li><li><table border=\"1\"><tr><th>_sigil</th><th>_token_array_position</th><th>n</th><th>p</th><th>t</th></tr><tr><td>W1</td><td>6</td><td>reine</td><td>reine</td><td>reine </td></tr></table></li><li><table border=\"1\"><tr><th>_sigil</th><th>_token_array_position</th><th>n</th><th>p</th><th>t</th></tr><tr><td>W1</td><td>7</td><td>coment</td><td>coment</td><td>coment </td></tr></table></li><li><table border=\"1\"><tr><th>_sigil</th><th>_token_array_position</th><th>n</th><th>p</th><th>t</th></tr><tr><td>W1</td><td>8</td><td>la</td><td>la</td><td>la </td></tr></table></li><li><table border=\"1\"><tr><th>_sigil</th><th>_token_array_position</th><th>n</th><th>p</th><th>t</th></tr><tr><td>W1</td><td>9</td><td>dame</td><td>dame</td><td>dame </td></tr></table></li><li><table border=\"1\"><tr><th>_sigil</th><th>_token_array_position</th><th>n</th><th>p</th><th>t</th></tr><tr><td>W1</td><td>10</td><td>del</td><td>del</td><td>del </td></tr></table></li><li><table border=\"1\"><tr><th>_sigil</th><th>_token_array_position</th><th>n</th><th>p</th><th>t</th></tr><tr><td>W1</td><td>11</td><td>lac</td><td>lac</td><td>lac\\n</td></tr></table></li></ul></li><li><ul><li><table border=\"1\"><tr><th>_sigil</th><th>_token_array_position</th><th>n</th><th>p</th><th>t</th></tr><tr><td>W2</td><td>13</td><td>Lors</td><td>Lors</td><td>Lors </td></tr></table></li><li>None</li><li><table border=\"1\"><tr><th>_sigil</th><th>_token_array_position</th><th>n</th><th>p</th><th>t</th></tr><tr><td>W2</td><td>14</td><td>conte</td><td>conte</td><td>conte </td></tr></table></li><li><table border=\"1\"><tr><th>_sigil</th><th>_token_array_position</th><th>n</th><th>p</th><th>t</th></tr><tr><td>W2</td><td>15</td><td>li</td><td>li</td><td>li </td></tr></table></li><li><table border=\"1\"><tr><th>_sigil</th><th>_token_array_position</th><th>n</th><th>p</th><th>t</th></tr><tr><td>W2</td><td>16</td><td>rois</td><td>rois</td><td>rois </td></tr></table></li><li><table border=\"1\"><tr><th>_sigil</th><th>_token_array_position</th><th>n</th><th>p</th><th>t</th></tr><tr><td>W2</td><td>17</td><td>a</td><td>a</td><td>a </td></tr></table></li><li><table border=\"1\"><tr><th>_sigil</th><th>_token_array_position</th><th>n</th><th>p</th><th>t</th></tr><tr><td>W2</td><td>18</td><td>la</td><td>la</td><td>la </td></tr></table></li><li><table border=\"1\"><tr><th>_sigil</th><th>_token_array_position</th><th>n</th><th>p</th><th>t</th></tr><tr><td>W2</td><td>19</td><td>reine</td><td>reine</td><td>reine </td></tr></table></li><li><table border=\"1\"><tr><th>_sigil</th><th>_token_array_position</th><th>n</th><th>p</th><th>t</th></tr><tr><td>W2</td><td>20</td><td>coment</td><td>coment</td><td>coment </td></tr></table></li><li><table border=\"1\"><tr><th>_sigil</th><th>_token_array_position</th><th>n</th><th>p</th><th>t</th></tr><tr><td>W2</td><td>21</td><td>la</td><td>la</td><td>la </td></tr></table></li><li><table border=\"1\"><tr><th>_sigil</th><th>_token_array_position</th><th>n</th><th>p</th><th>t</th></tr><tr><td>W2</td><td>22</td><td>dame</td><td>dame</td><td>dame </td></tr></table></li><li><table border=\"1\"><tr><th>_sigil</th><th>_token_array_position</th><th>n</th><th>p</th><th>t</th></tr><tr><td>W2</td><td>23</td><td>del</td><td>del</td><td>del </td></tr></table></li><li><table border=\"1\"><tr><th>_sigil</th><th>_token_array_position</th><th>n</th><th>p</th><th>t</th></tr><tr><td>W2</td><td>24</td><td>lac</td><td>lac</td><td>lac\\n</td></tr></table></li></ul></li><li><ul><li><table border=\"1\"><tr><th>_sigil</th><th>_token_array_position</th><th>n</th><th>p</th><th>t</th></tr><tr><td>W3</td><td>26</td><td>Lors</td><td>Lors</td><td>Lors </td></tr></table></li><li>None</li><li><table border=\"1\"><tr><th>_sigil</th><th>_token_array_position</th><th>n</th><th>p</th><th>t</th></tr><tr><td>W3</td><td>27</td><td>conte</td><td>conte</td><td>conte </td></tr></table></li><li><table border=\"1\"><tr><th>_sigil</th><th>_token_array_position</th><th>n</th><th>p</th><th>t</th></tr><tr><td>W3</td><td>28</td><td>li</td><td>li</td><td>li </td></tr></table></li><li><table border=\"1\"><tr><th>_sigil</th><th>_token_array_position</th><th>n</th><th>p</th><th>t</th></tr><tr><td>W3</td><td>29</td><td>rois</td><td>rois</td><td>rois </td></tr></table></li><li><table border=\"1\"><tr><th>_sigil</th><th>_token_array_position</th><th>n</th><th>p</th><th>t</th></tr><tr><td>W3</td><td>30</td><td>a</td><td>a</td><td>a </td></tr></table></li><li><table border=\"1\"><tr><th>_sigil</th><th>_token_array_position</th><th>n</th><th>p</th><th>t</th></tr><tr><td>W3</td><td>31</td><td>la</td><td>la</td><td>la </td></tr></table></li><li><table border=\"1\"><tr><th>_sigil</th><th>_token_array_position</th><th>n</th><th>p</th><th>t</th></tr><tr><td>W3</td><td>32</td><td>reine</td><td>reine</td><td>roine </td></tr></table></li><li><table border=\"1\"><tr><th>_sigil</th><th>_token_array_position</th><th>n</th><th>p</th><th>t</th></tr><tr><td>W3</td><td>33</td><td>coment</td><td>coment</td><td>coment </td></tr></table></li><li><table border=\"1\"><tr><th>_sigil</th><th>_token_array_position</th><th>n</th><th>p</th><th>t</th></tr><tr><td>W3</td><td>34</td><td>la</td><td>la</td><td>la </td></tr></table></li><li><table border=\"1\"><tr><th>_sigil</th><th>_token_array_position</th><th>n</th><th>p</th><th>t</th></tr><tr><td>W3</td><td>35</td><td>dame</td><td>dame</td><td>dame </td></tr></table></li><li><table border=\"1\"><tr><th>_sigil</th><th>_token_array_position</th><th>n</th><th>p</th><th>t</th></tr><tr><td>W3</td><td>36</td><td>del</td><td>del</td><td>del </td></tr></table></li><li><table border=\"1\"><tr><th>_sigil</th><th>_token_array_position</th><th>n</th><th>p</th><th>t</th></tr><tr><td>W3</td><td>37</td><td>lac</td><td>lac</td><td>lac\\n</td></tr></table></li></ul></li><li><ul><li><table border=\"1\"><tr><th>_sigil</th><th>_token_array_position</th><th>n</th><th>p</th><th>t</th></tr><tr><td>W4</td><td>39</td><td>Adonc</td><td>Adonc</td><td>Adonc </td></tr></table></li><li><table border=\"1\"><tr><th>_sigil</th><th>_token_array_position</th><th>n</th><th>p</th><th>t</th></tr><tr><td>W4</td><td>40</td><td>li</td><td>li</td><td>li </td></tr></table></li><li><table border=\"1\"><tr><th>_sigil</th><th>_token_array_position</th><th>n</th><th>p</th><th>t</th></tr><tr><td>W4</td><td>41</td><td>conte</td><td>conte</td><td>conte </td></tr></table></li><li><table border=\"1\"><tr><th>_sigil</th><th>_token_array_position</th><th>n</th><th>p</th><th>t</th></tr><tr><td>W4</td><td>42</td><td>li</td><td>li</td><td>li </td></tr></table></li><li><table border=\"1\"><tr><th>_sigil</th><th>_token_array_position</th><th>n</th><th>p</th><th>t</th></tr><tr><td>W4</td><td>43</td><td>rois</td><td>rois</td><td>rois </td></tr></table></li><li>None</li><li>None</li><li>None</li><li><table border=\"1\"><tr><th>_sigil</th><th>_token_array_position</th><th>n</th><th>p</th><th>t</th></tr><tr><td>W4</td><td>44</td><td>coment</td><td>coment</td><td>comment </td></tr></table></li><li><table border=\"1\"><tr><th>_sigil</th><th>_token_array_position</th><th>n</th><th>p</th><th>t</th></tr><tr><td>W4</td><td>45</td><td>la</td><td>la</td><td>la </td></tr></table></li><li><table border=\"1\"><tr><th>_sigil</th><th>_token_array_position</th><th>n</th><th>p</th><th>t</th></tr><tr><td>W4</td><td>46</td><td>dame</td><td>dame</td><td>dame </td></tr></table></li><li><table border=\"1\"><tr><th>_sigil</th><th>_token_array_position</th><th>n</th><th>p</th><th>t</th></tr><tr><td>W4</td><td>47</td><td></td><td>del</td><td>du </td></tr></table></li><li><table border=\"1\"><tr><th>_sigil</th><th>_token_array_position</th><th>n</th><th>p</th><th>t</th></tr><tr><td>W4</td><td>48</td><td>lac</td><td>lac</td><td>lac\\n</td></tr></table></li></ul></li></ul></td></tr><tr><th>witnesses</th><td><ul><li>W1</li><li>W2</li><li>W3</li><li>W4</li></ul></td></tr></table>'"
      ]
     },
     "execution_count": 21,
     "metadata": {},
     "output_type": "execute_result"
    }
   ],
   "source": [
    "json2html.convert(json = graph)"
   ]
  },
  {
   "cell_type": "code",
   "execution_count": null,
   "metadata": {
    "collapsed": true
   },
   "outputs": [],
   "source": []
  }
 ],
 "metadata": {
  "kernelspec": {
   "display_name": "Python 3",
   "language": "python",
   "name": "python3"
  },
  "language_info": {
   "codemirror_mode": {
    "name": "ipython",
    "version": 3
   },
   "file_extension": ".py",
   "mimetype": "text/x-python",
   "name": "python",
   "nbconvert_exporter": "python",
   "pygments_lexer": "ipython3",
   "version": "3.6.3"
  }
 },
 "nbformat": 4,
 "nbformat_minor": 1
}
