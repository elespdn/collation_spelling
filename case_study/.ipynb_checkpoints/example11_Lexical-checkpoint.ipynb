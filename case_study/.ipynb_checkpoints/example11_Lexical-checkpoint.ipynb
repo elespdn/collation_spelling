{
 "cells": [
  {
   "cell_type": "markdown",
   "metadata": {
    "collapsed": true
   },
   "source": [
    "Example of necessity to normalize the forms PAS and MIE. Add Manual Dictionary for a having a good result."
   ]
  },
  {
   "cell_type": "markdown",
   "metadata": {},
   "source": [
    "## 0. Normal"
   ]
  },
  {
   "cell_type": "code",
   "execution_count": 1,
   "metadata": {
    "scrolled": true
   },
   "outputs": [
    {
     "data": {
      "text/html": [
       "<TABLE border=\"1\" style=\"border: 1px solid #000000; border-collapse: collapse;\" cellpadding=\"4\">\n",
       " <TR>\n",
       "  <TH>W1</TH>\n",
       "  <TH>W2</TH>\n",
       "  <TH>W3</TH>\n",
       " </TR>\n",
       " <TR>\n",
       "  <TD bgcolor=\"00FFFF\">ne</TD>\n",
       "  <TD bgcolor=\"00FFFF\">ne</TD>\n",
       "  <TD bgcolor=\"00FFFF\">ne</TD>\n",
       " </TR>\n",
       " <TR>\n",
       "  <TD bgcolor=\"FF5000\">deit</TD>\n",
       "  <TD bgcolor=\"FF5000\">li</TD>\n",
       "  <TD bgcolor=\"FF5000\">li</TD>\n",
       " </TR>\n",
       " <TR>\n",
       "  <TD bgcolor=\"FF5000\">mie</TD>\n",
       "  <TD bgcolor=\"FF5000\">doit</TD>\n",
       "  <TD bgcolor=\"FF5000\">doit</TD>\n",
       " </TR>\n",
       " <TR>\n",
       "  <TD bgcolor=\"FF5000\">-</TD>\n",
       "  <TD bgcolor=\"FF5000\">on</TD>\n",
       "  <TD bgcolor=\"FF5000\">-</TD>\n",
       " </TR>\n",
       " <TR>\n",
       "  <TD bgcolor=\"FF5000\">-</TD>\n",
       "  <TD bgcolor=\"FF5000\">pas</TD>\n",
       "  <TD bgcolor=\"FF5000\">pas</TD>\n",
       " </TR>\n",
       " <TR>\n",
       "  <TD bgcolor=\"00FFFF\">atorner</TD>\n",
       "  <TD bgcolor=\"00FFFF\">atorner</TD>\n",
       "  <TD bgcolor=\"00FFFF\">atorner</TD>\n",
       " </TR>\n",
       "</TABLE>"
      ],
      "text/plain": [
       "<IPython.core.display.HTML object>"
      ]
     },
     "metadata": {},
     "output_type": "display_data"
    },
    {
     "name": "stdout",
     "output_type": "stream",
     "text": [
      "None\n"
     ]
    }
   ],
   "source": [
    "from collatex import *\n",
    "collation = Collation()\n",
    "W1 = open( \"data/example11/W1.txt\", encoding='utf-8' ).read()\n",
    "W2 = open( \"data/example11/W2.txt\", encoding='utf-8' ).read()\n",
    "W3 = open( \"data/example11/W3.txt\", encoding='utf-8' ).read()\n",
    "collation.add_plain_witness( \"W1\", W1 )\n",
    "collation.add_plain_witness( \"W2\", W2 )\n",
    "collation.add_plain_witness( \"W3\", W3 )\n",
    "table = collate(collation, output='html2', segmentation=False)\n",
    "print(table)"
   ]
  },
  {
   "cell_type": "markdown",
   "metadata": {},
   "source": [
    "## 1. Near match"
   ]
  },
  {
   "cell_type": "code",
   "execution_count": 2,
   "metadata": {
    "scrolled": true
   },
   "outputs": [
    {
     "data": {
      "text/html": [
       "<TABLE border=\"1\" style=\"border: 1px solid #000000; border-collapse: collapse;\" cellpadding=\"4\">\n",
       " <TR>\n",
       "  <TH>W1</TH>\n",
       "  <TH>W2</TH>\n",
       "  <TH>W3</TH>\n",
       " </TR>\n",
       " <TR>\n",
       "  <TD bgcolor=\"00FFFF\">ne</TD>\n",
       "  <TD bgcolor=\"00FFFF\">ne</TD>\n",
       "  <TD bgcolor=\"00FFFF\">ne</TD>\n",
       " </TR>\n",
       " <TR>\n",
       "  <TD bgcolor=\"FF5000\">deit</TD>\n",
       "  <TD bgcolor=\"FF5000\">li</TD>\n",
       "  <TD bgcolor=\"FF5000\">li</TD>\n",
       " </TR>\n",
       " <TR>\n",
       "  <TD bgcolor=\"FF5000\">mie</TD>\n",
       "  <TD bgcolor=\"FF5000\">doit</TD>\n",
       "  <TD bgcolor=\"FF5000\">doit</TD>\n",
       " </TR>\n",
       " <TR>\n",
       "  <TD bgcolor=\"FF5000\">-</TD>\n",
       "  <TD bgcolor=\"FF5000\">on</TD>\n",
       "  <TD bgcolor=\"FF5000\">-</TD>\n",
       " </TR>\n",
       " <TR>\n",
       "  <TD bgcolor=\"FF5000\">-</TD>\n",
       "  <TD bgcolor=\"FF5000\">pas</TD>\n",
       "  <TD bgcolor=\"FF5000\">pas</TD>\n",
       " </TR>\n",
       " <TR>\n",
       "  <TD bgcolor=\"00FFFF\">atorner</TD>\n",
       "  <TD bgcolor=\"00FFFF\">atorner</TD>\n",
       "  <TD bgcolor=\"00FFFF\">atorner</TD>\n",
       " </TR>\n",
       "</TABLE>"
      ],
      "text/plain": [
       "<IPython.core.display.HTML object>"
      ]
     },
     "metadata": {},
     "output_type": "display_data"
    },
    {
     "name": "stdout",
     "output_type": "stream",
     "text": [
      "None\n"
     ]
    }
   ],
   "source": [
    "from collatex import *\n",
    "collation = Collation()\n",
    "W1 = open( \"data/example11/W1.txt\", encoding='utf-8' ).read()\n",
    "W2 = open( \"data/example11/W2.txt\", encoding='utf-8' ).read()\n",
    "W3 = open( \"data/example11/W3.txt\", encoding='utf-8' ).read()\n",
    "collation.add_plain_witness( \"W1\", W1 )\n",
    "collation.add_plain_witness( \"W2\", W2 )\n",
    "collation.add_plain_witness( \"W3\", W3 )\n",
    "table = collate(collation, output='html2', near_match=True, segmentation=False)\n",
    "print(table)"
   ]
  },
  {
   "cell_type": "markdown",
   "metadata": {},
   "source": [
    "## 2b. NLP (table)\n",
    "\n",
    "This method requires the dictionary 'pos_lemma.csv' ('pos_lemma_example11.csv'), that can be created using the notebook ['Create_dictionary_using_NLP'](create_dictionary_using_NLP.ipynb)."
   ]
  },
  {
   "cell_type": "code",
   "execution_count": 3,
   "metadata": {},
   "outputs": [
    {
     "data": {
      "text/html": [
       "<TABLE border=\"1\" style=\"border: 1px solid #000000; border-collapse: collapse;\" cellpadding=\"4\">\n",
       " <TR>\n",
       "  <TH>W1</TH>\n",
       "  <TH>W2</TH>\n",
       "  <TH>W3</TH>\n",
       " </TR>\n",
       " <TR>\n",
       "  <TD bgcolor=\"00FFFF\">ne</TD>\n",
       "  <TD bgcolor=\"00FFFF\">ne</TD>\n",
       "  <TD bgcolor=\"00FFFF\">ne</TD>\n",
       " </TR>\n",
       " <TR>\n",
       "  <TD bgcolor=\"FF5000\">-</TD>\n",
       "  <TD bgcolor=\"FF5000\">li</TD>\n",
       "  <TD bgcolor=\"FF5000\">li</TD>\n",
       " </TR>\n",
       " <TR>\n",
       "  <TD bgcolor=\"00FFFF\">deit</TD>\n",
       "  <TD bgcolor=\"00FFFF\">doit</TD>\n",
       "  <TD bgcolor=\"00FFFF\">doit</TD>\n",
       " </TR>\n",
       " <TR>\n",
       "  <TD bgcolor=\"FF5000\">mie</TD>\n",
       "  <TD bgcolor=\"FF5000\">on</TD>\n",
       "  <TD bgcolor=\"FF5000\">-</TD>\n",
       " </TR>\n",
       " <TR>\n",
       "  <TD bgcolor=\"FF5000\">-</TD>\n",
       "  <TD bgcolor=\"FF5000\">pas</TD>\n",
       "  <TD bgcolor=\"FF5000\">pas</TD>\n",
       " </TR>\n",
       " <TR>\n",
       "  <TD bgcolor=\"00FFFF\">atorner</TD>\n",
       "  <TD bgcolor=\"00FFFF\">atorner</TD>\n",
       "  <TD bgcolor=\"00FFFF\">atorner</TD>\n",
       " </TR>\n",
       "</TABLE>"
      ],
      "text/plain": [
       "<IPython.core.display.HTML object>"
      ]
     },
     "metadata": {},
     "output_type": "display_data"
    },
    {
     "name": "stdout",
     "output_type": "stream",
     "text": [
      "None\n"
     ]
    }
   ],
   "source": [
    "import csv\n",
    "import re\n",
    "\n",
    "Normit = {}\n",
    "with open('pos_lemma_example11.csv') as csvfile:\n",
    "    reader = csv.DictReader(csvfile, fieldnames=['Original', 'Normalised'],  dialect='excel')\n",
    "    for row in reader:\n",
    "        Normit[row['Original']]= row['Normalised']\n",
    "\n",
    "#read in the witnesses  from your file system \n",
    "from collatex.core_classes import WordPunctuationTokenizer\n",
    "tokenizer = WordPunctuationTokenizer()\n",
    "#da lettere\n",
    "#testimone_P4 = open( \"lettere/T196-part1-clean-P4.txt\", encoding='utf-8' ).read()\n",
    "#testimone_S2 = open( \"lettere/T196-part1-clean-S2.txt\", encoding='utf-8' ).read()\n",
    "#testimone_S4 = open( \"lettere/T196-part1-clean-S4.txt\", encoding='utf-8' ).read()\n",
    "\n",
    "# build a function to tokenize and to normalize by replace keys to be found in the dictionary by the corresponding values \n",
    "def tokennormalizer(witness) :\n",
    "    tokens_as_strings = tokenizer.tokenize(witness)\n",
    "    list = []\n",
    "    for token_string in tokens_as_strings:\n",
    "        normversion = re.sub(r'\\s+$',\"\", token_string)\n",
    "        replaceversion = Normit.get(normversion,normversion)\n",
    "        list.append({'t':token_string, 'n':replaceversion})\n",
    "    return(list)\n",
    "\n",
    "#collate\n",
    "tokens_W1 = tokennormalizer(W1) \n",
    "tokens_W2 = tokennormalizer(W2) \n",
    "tokens_W3 = tokennormalizer(W3)\n",
    "\n",
    "witness_W1 = { \"id\": \"W1\", \"tokens\":tokens_W1 }\n",
    "witness_W2 = { \"id\": \"W2\", \"tokens\":tokens_W2 }\n",
    "witness_W3 = { \"id\": \"W3\", \"tokens\":tokens_W3 }\n",
    "\n",
    "\n",
    "input = { \"witnesses\": [ witness_W1, witness_W2, witness_W3 ] }\n",
    "\n",
    "table = collate(input, output='html2', segmentation=False)\n",
    "print(table)"
   ]
  },
  {
   "cell_type": "markdown",
   "metadata": {},
   "source": [
    "## 2b. NLP (graph)"
   ]
  },
  {
   "cell_type": "code",
   "execution_count": 5,
   "metadata": {},
   "outputs": [
    {
     "data": {
      "image/svg+xml": [
       "<svg height=\"144pt\" viewBox=\"0.00 0.00 1706.10 144.24\" width=\"1706pt\" xmlns=\"http://www.w3.org/2000/svg\" xmlns:xlink=\"http://www.w3.org/1999/xlink\">\n",
       "<g class=\"graph\" id=\"graph0\" transform=\"scale(1 1) rotate(0) translate(4 140.238)\">\n",
       "<title>%3</title>\n",
       "<polygon fill=\"white\" points=\"-4,4 -4,-140.238 1702.1,-140.238 1702.1,4 -4,4\" stroke=\"none\"/>\n",
       "<!-- 1 -->\n",
       "<g class=\"node\" id=\"node1\"><title>1</title>\n",
       "<ellipse cx=\"71.4178\" cy=\"-66.468\" fill=\"none\" rx=\"71.3357\" ry=\"21.8409\" stroke=\"black\"/>\n",
       "<polygon fill=\"none\" points=\"30.4178,-55.468 30.4178,-76.468 64.4178,-76.468 64.4178,-55.468 30.4178,-55.468\" stroke=\"black\"/>\n",
       "<text font-family=\"Times,serif\" font-size=\"14.00\" font-weight=\"bold\" text-anchor=\"start\" x=\"33.4178\" y=\"-63.268\">start</text>\n",
       "<polygon fill=\"none\" points=\"64.4178,-55.468 64.4178,-76.468 113.418,-76.468 113.418,-55.468 64.4178,-55.468\" stroke=\"black\"/>\n",
       "<text font-family=\"Times,serif\" font-size=\"14.00\" text-anchor=\"start\" x=\"67.4178\" y=\"-62.268\">exact: 0</text>\n",
       "<polygon fill=\"none\" points=\"28.9178,-54.968 28.9178,-77.968 113.918,-77.968 113.918,-54.968 28.9178,-54.968\" stroke=\"black\"/>\n",
       "</g>\n",
       "<!-- 3 -->\n",
       "<g class=\"node\" id=\"node2\"><title>3</title>\n",
       "<ellipse cx=\"305.408\" cy=\"-66.468\" fill=\"none\" rx=\"126.644\" ry=\"36.5405\" stroke=\"black\"/>\n",
       "<polygon fill=\"none\" points=\"225.408,-66.468 225.408,-87.468 304.408,-87.468 304.408,-66.468 225.408,-66.468\" stroke=\"black\"/>\n",
       "<text font-family=\"Times,serif\" font-size=\"14.00\" font-weight=\"bold\" text-anchor=\"start\" x=\"228.408\" y=\"-74.268\">PRO:pers_il</text>\n",
       "<polygon fill=\"none\" points=\"304.408,-66.468 304.408,-87.468 386.408,-87.468 386.408,-66.468 304.408,-66.468\" stroke=\"black\"/>\n",
       "<text font-family=\"Times,serif\" font-size=\"14.00\" text-anchor=\"start\" x=\"307.408\" y=\"-73.268\">exact: 1</text>\n",
       "<polygon fill=\"none\" points=\"225.408,-45.468 225.408,-66.468 304.408,-66.468 304.408,-45.468 225.408,-45.468\" stroke=\"black\"/>\n",
       "<text font-family=\"Bukyvede\" font-size=\"14.00\" text-anchor=\"start\" x=\"228.408\" y=\"-52.268\">il </text>\n",
       "<polygon fill=\"none\" points=\"304.408,-45.468 304.408,-66.468 386.408,-66.468 386.408,-45.468 304.408,-45.468\" stroke=\"black\"/>\n",
       "<text font-family=\"Times,serif\" font-size=\"14.00\" text-anchor=\"start\" x=\"307.408\" y=\"-52.268\">W1, W2, W3</text>\n",
       "<polygon fill=\"none\" points=\"223.908,-44.468 223.908,-88.468 386.908,-88.468 386.908,-44.468 223.908,-44.468\" stroke=\"black\"/>\n",
       "</g>\n",
       "<!-- 1&#45;&gt;3 -->\n",
       "<g class=\"edge\" id=\"edge1\"><title>1-&gt;3</title>\n",
       "<path d=\"M142.967,-66.468C151.111,-66.468 159.611,-66.468 168.264,-66.468\" fill=\"none\" stroke=\"black\"/>\n",
       "<polygon fill=\"black\" points=\"168.482,-69.9681 178.482,-66.468 168.482,-62.9681 168.482,-69.9681\" stroke=\"black\"/>\n",
       "</g>\n",
       "<!-- 4 -->\n",
       "<g class=\"node\" id=\"node3\"><title>4</title>\n",
       "<ellipse cx=\"588.188\" cy=\"-66.468\" fill=\"none\" rx=\"120.417\" ry=\"36.5405\" stroke=\"black\"/>\n",
       "<polygon fill=\"none\" points=\"512.188,-66.468 512.188,-87.468 582.188,-87.468 582.188,-66.468 512.188,-66.468\" stroke=\"black\"/>\n",
       "<text font-family=\"Times,serif\" font-size=\"14.00\" font-weight=\"bold\" text-anchor=\"start\" x=\"515.188\" y=\"-74.268\">VER_estre</text>\n",
       "<polygon fill=\"none\" points=\"582.188,-66.468 582.188,-87.468 664.188,-87.468 664.188,-66.468 582.188,-66.468\" stroke=\"black\"/>\n",
       "<text font-family=\"Times,serif\" font-size=\"14.00\" text-anchor=\"start\" x=\"585.188\" y=\"-73.268\">exact: 2</text>\n",
       "<polygon fill=\"none\" points=\"512.188,-45.468 512.188,-66.468 582.188,-66.468 582.188,-45.468 512.188,-45.468\" stroke=\"black\"/>\n",
       "<text font-family=\"Bukyvede\" font-size=\"14.00\" text-anchor=\"start\" x=\"515.188\" y=\"-52.268\">sont </text>\n",
       "<polygon fill=\"none\" points=\"582.188,-45.468 582.188,-66.468 664.188,-66.468 664.188,-45.468 582.188,-45.468\" stroke=\"black\"/>\n",
       "<text font-family=\"Times,serif\" font-size=\"14.00\" text-anchor=\"start\" x=\"585.188\" y=\"-52.268\">W1, W2, W3</text>\n",
       "<polygon fill=\"none\" points=\"511.188,-44.468 511.188,-88.468 665.188,-88.468 665.188,-44.468 511.188,-44.468\" stroke=\"black\"/>\n",
       "</g>\n",
       "<!-- 3&#45;&gt;4 -->\n",
       "<g class=\"edge\" id=\"edge2\"><title>3-&gt;4</title>\n",
       "<path d=\"M432.015,-66.468C440.424,-66.468 448.904,-66.468 457.333,-66.468\" fill=\"none\" stroke=\"black\"/>\n",
       "<polygon fill=\"black\" points=\"457.581,-69.9681 467.581,-66.468 457.581,-62.9681 457.581,-69.9681\" stroke=\"black\"/>\n",
       "</g>\n",
       "<!-- 5 -->\n",
       "<g class=\"node\" id=\"node4\"><title>5</title>\n",
       "<ellipse cx=\"882.282\" cy=\"-66.468\" fill=\"none\" rx=\"137.772\" ry=\"51.7379\" stroke=\"black\"/>\n",
       "<polygon fill=\"none\" points=\"794.282,-76.468 794.282,-97.468 916.282,-97.468 916.282,-76.468 794.282,-76.468\" stroke=\"black\"/>\n",
       "<text font-family=\"Times,serif\" font-size=\"14.00\" font-weight=\"bold\" text-anchor=\"start\" x=\"797.282\" y=\"-84.268\">ADJ:card_ambedos</text>\n",
       "<polygon fill=\"none\" points=\"916.282,-76.468 916.282,-97.468 971.282,-97.468 971.282,-76.468 916.282,-76.468\" stroke=\"black\"/>\n",
       "<text font-family=\"Times,serif\" font-size=\"14.00\" text-anchor=\"start\" x=\"919.282\" y=\"-83.268\">exact: 3</text>\n",
       "<polygon fill=\"none\" points=\"794.282,-55.468 794.282,-76.468 916.282,-76.468 916.282,-55.468 794.282,-55.468\" stroke=\"black\"/>\n",
       "<text font-family=\"Bukyvede\" font-size=\"14.00\" text-anchor=\"start\" x=\"797.282\" y=\"-62.268\">ambedui </text>\n",
       "<polygon fill=\"none\" points=\"916.282,-55.468 916.282,-76.468 971.282,-76.468 971.282,-55.468 916.282,-55.468\" stroke=\"black\"/>\n",
       "<text font-family=\"Times,serif\" font-size=\"14.00\" text-anchor=\"start\" x=\"919.282\" y=\"-62.268\">W3</text>\n",
       "<polygon fill=\"none\" points=\"794.282,-34.468 794.282,-55.468 916.282,-55.468 916.282,-34.468 794.282,-34.468\" stroke=\"black\"/>\n",
       "<text font-family=\"Bukyvede\" font-size=\"14.00\" text-anchor=\"start\" x=\"797.282\" y=\"-41.268\">andui </text>\n",
       "<polygon fill=\"none\" points=\"916.282,-34.468 916.282,-55.468 971.282,-55.468 971.282,-34.468 916.282,-34.468\" stroke=\"black\"/>\n",
       "<text font-family=\"Times,serif\" font-size=\"14.00\" text-anchor=\"start\" x=\"919.282\" y=\"-41.268\">W1, W2</text>\n",
       "<polygon fill=\"none\" points=\"792.782,-33.968 792.782,-98.968 971.782,-98.968 971.782,-33.968 792.782,-33.968\" stroke=\"black\"/>\n",
       "</g>\n",
       "<!-- 4&#45;&gt;5 -->\n",
       "<g class=\"edge\" id=\"edge3\"><title>4-&gt;5</title>\n",
       "<path d=\"M708.415,-66.468C716.919,-66.468 725.548,-66.468 734.182,-66.468\" fill=\"none\" stroke=\"black\"/>\n",
       "<polygon fill=\"black\" points=\"734.313,-69.9681 744.313,-66.468 734.313,-62.9681 734.313,-69.9681\" stroke=\"black\"/>\n",
       "</g>\n",
       "<!-- 6 -->\n",
       "<g class=\"node\" id=\"node5\"><title>6</title>\n",
       "<ellipse cx=\"1159.41\" cy=\"-99.468\" fill=\"none\" rx=\"103.476\" ry=\"36.5405\" stroke=\"black\"/>\n",
       "<polygon fill=\"none\" points=\"1095.41,-99.468 1095.41,-120.468 1168.41,-120.468 1168.41,-99.468 1095.41,-99.468\" stroke=\"black\"/>\n",
       "<text font-family=\"Times,serif\" font-size=\"14.00\" font-weight=\"bold\" text-anchor=\"start\" x=\"1098.41\" y=\"-107.268\">ADV_mout</text>\n",
       "<polygon fill=\"none\" points=\"1168.41,-99.468 1168.41,-120.468 1223.41,-120.468 1223.41,-99.468 1168.41,-99.468\" stroke=\"black\"/>\n",
       "<text font-family=\"Times,serif\" font-size=\"14.00\" text-anchor=\"start\" x=\"1171.41\" y=\"-106.268\">exact: 4</text>\n",
       "<polygon fill=\"none\" points=\"1095.41,-78.468 1095.41,-99.468 1168.41,-99.468 1168.41,-78.468 1095.41,-78.468\" stroke=\"black\"/>\n",
       "<text font-family=\"Bukyvede\" font-size=\"14.00\" text-anchor=\"start\" x=\"1098.41\" y=\"-85.268\">molt </text>\n",
       "<polygon fill=\"none\" points=\"1168.41,-78.468 1168.41,-99.468 1223.41,-99.468 1223.41,-78.468 1168.41,-78.468\" stroke=\"black\"/>\n",
       "<text font-family=\"Times,serif\" font-size=\"14.00\" text-anchor=\"start\" x=\"1171.41\" y=\"-85.268\">W1, W2</text>\n",
       "<polygon fill=\"none\" points=\"1094.41,-77.468 1094.41,-121.468 1224.41,-121.468 1224.41,-77.468 1094.41,-77.468\" stroke=\"black\"/>\n",
       "</g>\n",
       "<!-- 5&#45;&gt;6 -->\n",
       "<g class=\"edge\" id=\"edge4\"><title>5-&gt;6</title>\n",
       "<path d=\"M1013.99,-82.1466C1026.45,-83.6407 1038.98,-85.1438 1051.18,-86.6067\" fill=\"none\" stroke=\"black\"/>\n",
       "<polygon fill=\"black\" points=\"1050.99,-90.1091 1061.34,-87.825 1051.82,-83.1589 1050.99,-90.1091\" stroke=\"black\"/>\n",
       "</g>\n",
       "<!-- 7 -->\n",
       "<g class=\"node\" id=\"node6\"><title>7</title>\n",
       "<ellipse cx=\"1413.19\" cy=\"-66.468\" fill=\"none\" rx=\"114.603\" ry=\"66.4361\" stroke=\"black\"/>\n",
       "<polygon fill=\"none\" points=\"1341.19,-87.468 1341.19,-108.468 1436.19,-108.468 1436.19,-87.468 1341.19,-87.468\" stroke=\"black\"/>\n",
       "<text font-family=\"Times,serif\" font-size=\"14.00\" font-weight=\"bold\" text-anchor=\"start\" x=\"1344.19\" y=\"-95.268\">VER_corrocier</text>\n",
       "<polygon fill=\"none\" points=\"1436.19,-87.468 1436.19,-108.468 1485.19,-108.468 1485.19,-87.468 1436.19,-87.468\" stroke=\"black\"/>\n",
       "<text font-family=\"Times,serif\" font-size=\"14.00\" text-anchor=\"start\" x=\"1439.19\" y=\"-94.268\">exact: 5</text>\n",
       "<polygon fill=\"none\" points=\"1341.19,-66.468 1341.19,-87.468 1436.19,-87.468 1436.19,-66.468 1341.19,-66.468\" stroke=\"black\"/>\n",
       "<text font-family=\"Bukyvede\" font-size=\"14.00\" text-anchor=\"start\" x=\"1344.19\" y=\"-73.268\">corecie</text>\n",
       "<polygon fill=\"none\" points=\"1436.19,-66.468 1436.19,-87.468 1485.19,-87.468 1485.19,-66.468 1436.19,-66.468\" stroke=\"black\"/>\n",
       "<text font-family=\"Times,serif\" font-size=\"14.00\" text-anchor=\"start\" x=\"1439.19\" y=\"-73.268\">W3</text>\n",
       "<polygon fill=\"none\" points=\"1341.19,-45.468 1341.19,-66.468 1436.19,-66.468 1436.19,-45.468 1341.19,-45.468\" stroke=\"black\"/>\n",
       "<text font-family=\"Bukyvede\" font-size=\"14.00\" text-anchor=\"start\" x=\"1344.19\" y=\"-52.268\">corocie</text>\n",
       "<polygon fill=\"none\" points=\"1436.19,-45.468 1436.19,-66.468 1485.19,-66.468 1485.19,-45.468 1436.19,-45.468\" stroke=\"black\"/>\n",
       "<text font-family=\"Times,serif\" font-size=\"14.00\" text-anchor=\"start\" x=\"1439.19\" y=\"-52.268\">W2</text>\n",
       "<polygon fill=\"none\" points=\"1341.19,-24.468 1341.19,-45.468 1436.19,-45.468 1436.19,-24.468 1341.19,-24.468\" stroke=\"black\"/>\n",
       "<text font-family=\"Bukyvede\" font-size=\"14.00\" text-anchor=\"start\" x=\"1344.19\" y=\"-31.268\">corrocie</text>\n",
       "<polygon fill=\"none\" points=\"1436.19,-24.468 1436.19,-45.468 1485.19,-45.468 1485.19,-24.468 1436.19,-24.468\" stroke=\"black\"/>\n",
       "<text font-family=\"Times,serif\" font-size=\"14.00\" text-anchor=\"start\" x=\"1439.19\" y=\"-31.268\">W1</text>\n",
       "<polygon fill=\"none\" points=\"1340.19,-23.468 1340.19,-109.468 1486.19,-109.468 1486.19,-23.468 1340.19,-23.468\" stroke=\"black\"/>\n",
       "</g>\n",
       "<!-- 5&#45;&gt;7 -->\n",
       "<g class=\"edge\" id=\"edge5\"><title>5-&gt;7</title>\n",
       "<path d=\"M1017.25,-55.3973C1030.39,-54.6109 1043.53,-53.9423 1056.17,-53.468 1147.87,-50.0252 1170.96,-49.4908 1262.64,-53.468 1271.53,-53.8538 1280.71,-54.3679 1289.95,-54.9693\" fill=\"none\" stroke=\"black\"/>\n",
       "<polygon fill=\"black\" points=\"1289.76,-58.4647 1299.98,-55.6542 1290.24,-51.481 1289.76,-58.4647\" stroke=\"black\"/>\n",
       "</g>\n",
       "<!-- 6&#45;&gt;7 -->\n",
       "<g class=\"edge\" id=\"edge6\"><title>6-&gt;7</title>\n",
       "<path d=\"M1256.67,-86.8509C1267.95,-85.3732 1279.56,-83.8515 1291.12,-82.3369\" fill=\"none\" stroke=\"black\"/>\n",
       "<polygon fill=\"black\" points=\"1291.79,-85.7789 1301.25,-81.009 1290.88,-78.8383 1291.79,-85.7789\" stroke=\"black\"/>\n",
       "</g>\n",
       "<!-- 2 -->\n",
       "<g class=\"node\" id=\"node7\"><title>2</title>\n",
       "<ellipse cx=\"1630.92\" cy=\"-66.468\" fill=\"none\" rx=\"67.3507\" ry=\"21.8409\" stroke=\"black\"/>\n",
       "<polygon fill=\"none\" points=\"1592.92,-55.468 1592.92,-76.468 1620.92,-76.468 1620.92,-55.468 1592.92,-55.468\" stroke=\"black\"/>\n",
       "<text font-family=\"Times,serif\" font-size=\"14.00\" font-weight=\"bold\" text-anchor=\"start\" x=\"1595.92\" y=\"-63.268\">end</text>\n",
       "<polygon fill=\"none\" points=\"1620.92,-55.468 1620.92,-76.468 1669.92,-76.468 1669.92,-55.468 1620.92,-55.468\" stroke=\"black\"/>\n",
       "<text font-family=\"Times,serif\" font-size=\"14.00\" text-anchor=\"start\" x=\"1623.92\" y=\"-62.268\">exact: 6</text>\n",
       "<polygon fill=\"none\" points=\"1591.42,-54.968 1591.42,-77.968 1670.42,-77.968 1670.42,-54.968 1591.42,-54.968\" stroke=\"black\"/>\n",
       "</g>\n",
       "<!-- 7&#45;&gt;2 -->\n",
       "<g class=\"edge\" id=\"edge7\"><title>7-&gt;2</title>\n",
       "<path d=\"M1528.06,-66.468C1536.6,-66.468 1545.1,-66.468 1553.33,-66.468\" fill=\"none\" stroke=\"black\"/>\n",
       "<polygon fill=\"black\" points=\"1553.6,-69.9681 1563.6,-66.468 1553.6,-62.9681 1553.6,-69.9681\" stroke=\"black\"/>\n",
       "</g>\n",
       "</g>\n",
       "</svg>"
      ],
      "text/plain": [
       "<IPython.core.display.SVG object>"
      ]
     },
     "metadata": {},
     "output_type": "display_data"
    },
    {
     "name": "stdout",
     "output_type": "stream",
     "text": [
      "None\n"
     ]
    }
   ],
   "source": [
    "import csv\n",
    "import re\n",
    "\n",
    "Normit = {}\n",
    "with open('pos_lemma_example11.csv') as csvfile:\n",
    "    reader = csv.DictReader(csvfile, fieldnames=['Original', 'Normalised'],  dialect='excel')\n",
    "    for row in reader:\n",
    "        Normit[row['Original']]= row['Normalised']\n",
    "\n",
    "#read in the witnesses  from your file system \n",
    "from collatex.core_classes import WordPunctuationTokenizer\n",
    "tokenizer = WordPunctuationTokenizer()\n",
    "#da lettere\n",
    "#testimone_P4 = open( \"lettere/T196-part1-clean-P4.txt\", encoding='utf-8' ).read()\n",
    "#testimone_S2 = open( \"lettere/T196-part1-clean-S2.txt\", encoding='utf-8' ).read()\n",
    "#testimone_S4 = open( \"lettere/T196-part1-clean-S4.txt\", encoding='utf-8' ).read()\n",
    "\n",
    "# build a function to tokenize and to normalize by replace keys to be found in the dictionary by the corresponding values \n",
    "def tokennormalizer(witness) :\n",
    "    tokens_as_strings = tokenizer.tokenize(witness)\n",
    "    list = []\n",
    "    for token_string in tokens_as_strings:\n",
    "        normversion = re.sub(r'\\s+$',\"\", token_string)\n",
    "        replaceversion = Normit.get(normversion,normversion)\n",
    "        list.append({'t':token_string, 'n':replaceversion})\n",
    "    return(list)\n",
    "\n",
    "#collate\n",
    "tokens_W1 = tokennormalizer(W1) \n",
    "tokens_W2 = tokennormalizer(W2) \n",
    "tokens_W3 = tokennormalizer(W3) \n",
    "\n",
    "witness_W1 = { \"id\": \"W1\", \"tokens\":tokens_W1 }\n",
    "witness_W2 = { \"id\": \"W2\", \"tokens\":tokens_W2 }\n",
    "witness_W3 = { \"id\": \"W3\", \"tokens\":tokens_W3 }\n",
    "\n",
    "\n",
    "input = { \"witnesses\": [ witness_W1, witness_W2, witness_W3 ] }\n",
    "\n",
    "table = collate(input, output='svg', segmentation=False)\n",
    "print(table)"
   ]
  },
  {
   "cell_type": "code",
   "execution_count": null,
   "metadata": {
    "collapsed": true
   },
   "outputs": [],
   "source": []
  }
 ],
 "metadata": {
  "kernelspec": {
   "display_name": "Python 3",
   "language": "python",
   "name": "python3"
  },
  "language_info": {
   "codemirror_mode": {
    "name": "ipython",
    "version": 3
   },
   "file_extension": ".py",
   "mimetype": "text/x-python",
   "name": "python",
   "nbconvert_exporter": "python",
   "pygments_lexer": "ipython3",
   "version": "3.6.3"
  }
 },
 "nbformat": 4,
 "nbformat_minor": 2
}
